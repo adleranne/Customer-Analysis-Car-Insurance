{
 "cells": [
  {
   "cell_type": "markdown",
   "id": "7c09337d",
   "metadata": {},
   "source": [
    "# Descriptive Statistics"
   ]
  },
  {
   "cell_type": "code",
   "execution_count": 1,
   "id": "49ec320c",
   "metadata": {},
   "outputs": [],
   "source": [
    "import math\n",
    "import numpy as np\n",
    "import pandas as pd\n",
    "import seaborn as sns\n",
    "import matplotlib.pyplot as plt\n",
    "from scipy import stats"
   ]
  },
  {
   "cell_type": "code",
   "execution_count": 4,
   "id": "c69e3ba6",
   "metadata": {},
   "outputs": [],
   "source": [
    "#reading cleaned data file\n",
    "data=pd.read_csv('C:/Users/Anne_2/Documents/Ironhack/Python CustomerAnalysis/Customer-Analysis-Car-Insurance/marketing_customer_analysis_clean.csv')"
   ]
  },
  {
   "cell_type": "code",
   "execution_count": 96,
   "id": "520cec53",
   "metadata": {},
   "outputs": [
    {
     "data": {
      "text/html": [
       "<div>\n",
       "<style scoped>\n",
       "    .dataframe tbody tr th:only-of-type {\n",
       "        vertical-align: middle;\n",
       "    }\n",
       "\n",
       "    .dataframe tbody tr th {\n",
       "        vertical-align: top;\n",
       "    }\n",
       "\n",
       "    .dataframe thead th {\n",
       "        text-align: right;\n",
       "    }\n",
       "</style>\n",
       "<table border=\"1\" class=\"dataframe\">\n",
       "  <thead>\n",
       "    <tr style=\"text-align: right;\">\n",
       "      <th></th>\n",
       "      <th>customer</th>\n",
       "      <th>state</th>\n",
       "      <th>customer_lifetime_value</th>\n",
       "      <th>response</th>\n",
       "      <th>coverage</th>\n",
       "      <th>education</th>\n",
       "      <th>effective_to_date</th>\n",
       "      <th>employmentstatus</th>\n",
       "      <th>gender</th>\n",
       "      <th>income</th>\n",
       "      <th>...</th>\n",
       "      <th>number_of_open_complaints</th>\n",
       "      <th>number_of_policies</th>\n",
       "      <th>policy_type</th>\n",
       "      <th>policy</th>\n",
       "      <th>renew_offer_type</th>\n",
       "      <th>sales_channel</th>\n",
       "      <th>total_claim_amount</th>\n",
       "      <th>vehicle_class</th>\n",
       "      <th>vehicle_size</th>\n",
       "      <th>noincome</th>\n",
       "    </tr>\n",
       "  </thead>\n",
       "  <tbody>\n",
       "    <tr>\n",
       "      <th>0</th>\n",
       "      <td>BU79786</td>\n",
       "      <td>Washington</td>\n",
       "      <td>2763.519279</td>\n",
       "      <td>No</td>\n",
       "      <td>Basic</td>\n",
       "      <td>Bachelor</td>\n",
       "      <td>2011-02-24</td>\n",
       "      <td>Employed</td>\n",
       "      <td>F</td>\n",
       "      <td>56274</td>\n",
       "      <td>...</td>\n",
       "      <td>0</td>\n",
       "      <td>1</td>\n",
       "      <td>Corporate Auto</td>\n",
       "      <td>Corporate L3</td>\n",
       "      <td>Offer1</td>\n",
       "      <td>Agent</td>\n",
       "      <td>384.811147</td>\n",
       "      <td>Two-Door Car</td>\n",
       "      <td>Medsize</td>\n",
       "      <td>0</td>\n",
       "    </tr>\n",
       "    <tr>\n",
       "      <th>1</th>\n",
       "      <td>QZ44356</td>\n",
       "      <td>Arizona</td>\n",
       "      <td>6979.535903</td>\n",
       "      <td>No</td>\n",
       "      <td>Extended</td>\n",
       "      <td>Bachelor</td>\n",
       "      <td>2011-01-31</td>\n",
       "      <td>Unemployed</td>\n",
       "      <td>F</td>\n",
       "      <td>0</td>\n",
       "      <td>...</td>\n",
       "      <td>0</td>\n",
       "      <td>8</td>\n",
       "      <td>Personal Auto</td>\n",
       "      <td>Personal L3</td>\n",
       "      <td>Offer3</td>\n",
       "      <td>Agent</td>\n",
       "      <td>1131.464935</td>\n",
       "      <td>Four-Door Car</td>\n",
       "      <td>Medsize</td>\n",
       "      <td>1</td>\n",
       "    </tr>\n",
       "    <tr>\n",
       "      <th>2</th>\n",
       "      <td>AI49188</td>\n",
       "      <td>Nevada</td>\n",
       "      <td>12887.431650</td>\n",
       "      <td>No</td>\n",
       "      <td>Premium</td>\n",
       "      <td>Bachelor</td>\n",
       "      <td>2011-02-19</td>\n",
       "      <td>Employed</td>\n",
       "      <td>F</td>\n",
       "      <td>48767</td>\n",
       "      <td>...</td>\n",
       "      <td>0</td>\n",
       "      <td>2</td>\n",
       "      <td>Personal Auto</td>\n",
       "      <td>Personal L3</td>\n",
       "      <td>Offer1</td>\n",
       "      <td>Agent</td>\n",
       "      <td>566.472247</td>\n",
       "      <td>Two-Door Car</td>\n",
       "      <td>Medsize</td>\n",
       "      <td>0</td>\n",
       "    </tr>\n",
       "    <tr>\n",
       "      <th>3</th>\n",
       "      <td>WW63253</td>\n",
       "      <td>California</td>\n",
       "      <td>7645.861827</td>\n",
       "      <td>No</td>\n",
       "      <td>Basic</td>\n",
       "      <td>Bachelor</td>\n",
       "      <td>2011-01-20</td>\n",
       "      <td>Unemployed</td>\n",
       "      <td>M</td>\n",
       "      <td>0</td>\n",
       "      <td>...</td>\n",
       "      <td>0</td>\n",
       "      <td>7</td>\n",
       "      <td>Corporate Auto</td>\n",
       "      <td>Corporate L2</td>\n",
       "      <td>Offer1</td>\n",
       "      <td>Call Center</td>\n",
       "      <td>529.881344</td>\n",
       "      <td>SUV</td>\n",
       "      <td>Medsize</td>\n",
       "      <td>1</td>\n",
       "    </tr>\n",
       "    <tr>\n",
       "      <th>4</th>\n",
       "      <td>HB64268</td>\n",
       "      <td>Washington</td>\n",
       "      <td>2813.692575</td>\n",
       "      <td>No</td>\n",
       "      <td>Basic</td>\n",
       "      <td>Bachelor</td>\n",
       "      <td>2011-02-03</td>\n",
       "      <td>Employed</td>\n",
       "      <td>M</td>\n",
       "      <td>43836</td>\n",
       "      <td>...</td>\n",
       "      <td>0</td>\n",
       "      <td>1</td>\n",
       "      <td>Personal Auto</td>\n",
       "      <td>Personal L1</td>\n",
       "      <td>Offer1</td>\n",
       "      <td>Agent</td>\n",
       "      <td>138.130879</td>\n",
       "      <td>Four-Door Car</td>\n",
       "      <td>Medsize</td>\n",
       "      <td>0</td>\n",
       "    </tr>\n",
       "  </tbody>\n",
       "</table>\n",
       "<p>5 rows × 25 columns</p>\n",
       "</div>"
      ],
      "text/plain": [
       "  customer       state  customer_lifetime_value response  coverage education  \\\n",
       "0  BU79786  Washington              2763.519279       No     Basic  Bachelor   \n",
       "1  QZ44356     Arizona              6979.535903       No  Extended  Bachelor   \n",
       "2  AI49188      Nevada             12887.431650       No   Premium  Bachelor   \n",
       "3  WW63253  California              7645.861827       No     Basic  Bachelor   \n",
       "4  HB64268  Washington              2813.692575       No     Basic  Bachelor   \n",
       "\n",
       "  effective_to_date employmentstatus gender  income  ...  \\\n",
       "0        2011-02-24         Employed      F   56274  ...   \n",
       "1        2011-01-31       Unemployed      F       0  ...   \n",
       "2        2011-02-19         Employed      F   48767  ...   \n",
       "3        2011-01-20       Unemployed      M       0  ...   \n",
       "4        2011-02-03         Employed      M   43836  ...   \n",
       "\n",
       "  number_of_open_complaints number_of_policies     policy_type        policy  \\\n",
       "0                         0                  1  Corporate Auto  Corporate L3   \n",
       "1                         0                  8   Personal Auto   Personal L3   \n",
       "2                         0                  2   Personal Auto   Personal L3   \n",
       "3                         0                  7  Corporate Auto  Corporate L2   \n",
       "4                         0                  1   Personal Auto   Personal L1   \n",
       "\n",
       "   renew_offer_type  sales_channel  total_claim_amount  vehicle_class  \\\n",
       "0            Offer1          Agent          384.811147   Two-Door Car   \n",
       "1            Offer3          Agent         1131.464935  Four-Door Car   \n",
       "2            Offer1          Agent          566.472247   Two-Door Car   \n",
       "3            Offer1    Call Center          529.881344            SUV   \n",
       "4            Offer1          Agent          138.130879  Four-Door Car   \n",
       "\n",
       "  vehicle_size noincome  \n",
       "0      Medsize        0  \n",
       "1      Medsize        1  \n",
       "2      Medsize        0  \n",
       "3      Medsize        1  \n",
       "4      Medsize        0  \n",
       "\n",
       "[5 rows x 25 columns]"
      ]
     },
     "execution_count": 96,
     "metadata": {},
     "output_type": "execute_result"
    }
   ],
   "source": [
    "#displaying data\n",
    "data.head()"
   ]
  },
  {
   "cell_type": "code",
   "execution_count": 97,
   "id": "fe9de293",
   "metadata": {},
   "outputs": [
    {
     "data": {
      "text/plain": [
       "Index(['customer', 'state', 'customer_lifetime_value', 'response', 'coverage',\n",
       "       'education', 'effective_to_date', 'employmentstatus', 'gender',\n",
       "       'income', 'location_code', 'marital_status', 'monthly_premium_auto',\n",
       "       'months_since_last_claim', 'months_since_policy_inception',\n",
       "       'number_of_open_complaints', 'number_of_policies', 'policy_type',\n",
       "       'policy', 'renew_offer_type', 'sales_channel', 'total_claim_amount',\n",
       "       'vehicle_class', 'vehicle_size', 'noincome'],\n",
       "      dtype='object')"
      ]
     },
     "execution_count": 97,
     "metadata": {},
     "output_type": "execute_result"
    }
   ],
   "source": [
    "data.columns"
   ]
  },
  {
   "cell_type": "markdown",
   "id": "31d34010",
   "metadata": {},
   "source": [
    "## Demographics"
   ]
  },
  {
   "cell_type": "code",
   "execution_count": 6,
   "id": "86351bae",
   "metadata": {},
   "outputs": [
    {
     "data": {
      "text/plain": [
       "(9134, 24)"
      ]
     },
     "execution_count": 6,
     "metadata": {},
     "output_type": "execute_result"
    }
   ],
   "source": [
    "#How many customer records?\n",
    "data.shape"
   ]
  },
  {
   "cell_type": "code",
   "execution_count": 35,
   "id": "d7cfecfc",
   "metadata": {},
   "outputs": [
    {
     "name": "stdout",
     "output_type": "stream",
     "text": [
      "F    0.509963\n",
      "M    0.490037\n",
      "Name: gender, dtype: float64\n"
     ]
    },
    {
     "data": {
      "image/png": "[encoded data removed]",
      "text/plain": [
       "<Figure size 216x144 with 1 Axes>"
      ]
     },
     "metadata": {
      "needs_background": "light"
     },
     "output_type": "display_data"
    }
   ],
   "source": [
    "#Gender\n",
    "print(data.gender.value_counts(normalize = True))\n",
    "plt.figure(figsize=(3,2))\n",
    "sns.histplot(data.gender)\n",
    "plt.show()"
   ]
  },
  {
   "cell_type": "code",
   "execution_count": 22,
   "id": "d30aca58",
   "metadata": {},
   "outputs": [
    {
     "name": "stdout",
     "output_type": "stream",
     "text": [
      "California    0.344865\n",
      "Oregon        0.284760\n",
      "Arizona       0.186446\n",
      "Nevada        0.096562\n",
      "Washington    0.087366\n",
      "Name: state, dtype: float64\n"
     ]
    },
    {
     "data": {
      "image/png": "[encoded data removed]",
      "text/plain": [
       "<Figure size 432x144 with 1 Axes>"
      ]
     },
     "metadata": {
      "needs_background": "light"
     },
     "output_type": "display_data"
    }
   ],
   "source": [
    "#state\n",
    "print(data.state.value_counts(normalize = True))\n",
    "plt.figure(figsize=(6,2))\n",
    "sns.histplot(data.state)\n",
    "plt.show()"
   ]
  },
  {
   "cell_type": "code",
   "execution_count": 28,
   "id": "c671443c",
   "metadata": {},
   "outputs": [
    {
     "name": "stdout",
     "output_type": "stream",
     "text": [
      "Bachelor                0.300854\n",
      "College                 0.293519\n",
      "High School or Below    0.287059\n",
      "Master                  0.081125\n",
      "Doctor                  0.037443\n",
      "Name: education, dtype: float64\n"
     ]
    },
    {
     "data": {
      "image/png": "[encoded data removed]",
      "text/plain": [
       "<Figure size 576x144 with 1 Axes>"
      ]
     },
     "metadata": {
      "needs_background": "light"
     },
     "output_type": "display_data"
    }
   ],
   "source": [
    "#education\n",
    "print(data.education.value_counts(normalize = True))\n",
    "plt.figure(figsize=(8,2))\n",
    "sns.histplot(data.education)\n",
    "plt.show()"
   ]
  },
  {
   "cell_type": "code",
   "execution_count": 36,
   "id": "70888083",
   "metadata": {},
   "outputs": [
    {
     "name": "stdout",
     "output_type": "stream",
     "text": [
      "Employed         0.623823\n",
      "Unemployed       0.253668\n",
      "Medical Leave    0.047296\n",
      "Disabled         0.044340\n",
      "Retired          0.030874\n",
      "Name: employmentstatus, dtype: float64\n"
     ]
    },
    {
     "data": {
      "image/png": "[encoded data removed]",
      "text/plain": [
       "<Figure size 576x144 with 1 Axes>"
      ]
     },
     "metadata": {
      "needs_background": "light"
     },
     "output_type": "display_data"
    }
   ],
   "source": [
    "#employement status\n",
    "print(data.employmentstatus.value_counts(normalize = True))\n",
    "plt.figure(figsize=(8,2))\n",
    "sns.histplot(data.employmentstatus)\n",
    "plt.show()"
   ]
  },
  {
   "cell_type": "code",
   "execution_count": 39,
   "id": "1184a20f",
   "metadata": {},
   "outputs": [
    {
     "name": "stdout",
     "output_type": "stream",
     "text": [
      "count     9134.000000\n",
      "mean     37657.380009\n",
      "std      30379.904734\n",
      "min          0.000000\n",
      "25%          0.000000\n",
      "50%      33889.500000\n",
      "75%      62320.000000\n",
      "max      99981.000000\n",
      "Name: income, dtype: float64\n"
     ]
    },
    {
     "data": {
      "image/png": "[encoded data removed]",
      "text/plain": [
       "<Figure size 576x144 with 1 Axes>"
      ]
     },
     "metadata": {
      "needs_background": "light"
     },
     "output_type": "display_data"
    }
   ],
   "source": [
    "#income\n",
    "print(data.income.describe())\n",
    "plt.figure(figsize=(8,2))\n",
    "sns.histplot(data.income, bins=5)\n",
    "plt.show()"
   ]
  },
  {
   "cell_type": "code",
   "execution_count": 71,
   "id": "d630ae90",
   "metadata": {},
   "outputs": [
    {
     "data": {
      "text/html": [
       "<div>\n",
       "<style scoped>\n",
       "    .dataframe tbody tr th:only-of-type {\n",
       "        vertical-align: middle;\n",
       "    }\n",
       "\n",
       "    .dataframe tbody tr th {\n",
       "        vertical-align: top;\n",
       "    }\n",
       "\n",
       "    .dataframe thead th {\n",
       "        text-align: right;\n",
       "    }\n",
       "</style>\n",
       "<table border=\"1\" class=\"dataframe\">\n",
       "  <thead>\n",
       "    <tr style=\"text-align: right;\">\n",
       "      <th>employmentstatus</th>\n",
       "      <th>Disabled</th>\n",
       "      <th>Employed</th>\n",
       "      <th>Medical Leave</th>\n",
       "      <th>Retired</th>\n",
       "      <th>Unemployed</th>\n",
       "    </tr>\n",
       "    <tr>\n",
       "      <th>noincome</th>\n",
       "      <th></th>\n",
       "      <th></th>\n",
       "      <th></th>\n",
       "      <th></th>\n",
       "      <th></th>\n",
       "    </tr>\n",
       "  </thead>\n",
       "  <tbody>\n",
       "    <tr>\n",
       "      <th>0</th>\n",
       "      <td>405</td>\n",
       "      <td>5698</td>\n",
       "      <td>432</td>\n",
       "      <td>282</td>\n",
       "      <td>0</td>\n",
       "    </tr>\n",
       "    <tr>\n",
       "      <th>1</th>\n",
       "      <td>0</td>\n",
       "      <td>0</td>\n",
       "      <td>0</td>\n",
       "      <td>0</td>\n",
       "      <td>2317</td>\n",
       "    </tr>\n",
       "  </tbody>\n",
       "</table>\n",
       "</div>"
      ],
      "text/plain": [
       "employmentstatus  Disabled  Employed  Medical Leave  Retired  Unemployed\n",
       "noincome                                                                \n",
       "0                      405      5698            432      282           0\n",
       "1                        0         0              0        0        2317"
      ]
     },
     "execution_count": 71,
     "metadata": {},
     "output_type": "execute_result"
    }
   ],
   "source": [
    "#checking 0 as minimum income - is it from status unemployed or is it missing values?\n",
    "data['noincome']=data['income']\n",
    "data['noincome']=np.where(data['income']==0, 1, 0)\n",
    "pd.crosstab(data['noincome'], data['employmentstatus'])"
   ]
  },
  {
   "cell_type": "code",
   "execution_count": 74,
   "id": "b86cda4c",
   "metadata": {},
   "outputs": [
    {
     "data": {
      "text/html": [
       "<div>\n",
       "<style scoped>\n",
       "    .dataframe tbody tr th:only-of-type {\n",
       "        vertical-align: middle;\n",
       "    }\n",
       "\n",
       "    .dataframe tbody tr th {\n",
       "        vertical-align: top;\n",
       "    }\n",
       "\n",
       "    .dataframe thead th {\n",
       "        text-align: right;\n",
       "    }\n",
       "</style>\n",
       "<table border=\"1\" class=\"dataframe\">\n",
       "  <thead>\n",
       "    <tr style=\"text-align: right;\">\n",
       "      <th></th>\n",
       "      <th>count</th>\n",
       "      <th>mean</th>\n",
       "      <th>std</th>\n",
       "      <th>min</th>\n",
       "      <th>25%</th>\n",
       "      <th>50%</th>\n",
       "      <th>75%</th>\n",
       "      <th>max</th>\n",
       "    </tr>\n",
       "    <tr>\n",
       "      <th>employmentstatus</th>\n",
       "      <th></th>\n",
       "      <th></th>\n",
       "      <th></th>\n",
       "      <th></th>\n",
       "      <th></th>\n",
       "      <th></th>\n",
       "      <th></th>\n",
       "      <th></th>\n",
       "    </tr>\n",
       "  </thead>\n",
       "  <tbody>\n",
       "    <tr>\n",
       "      <th>Disabled</th>\n",
       "      <td>405.0</td>\n",
       "      <td>20045.582716</td>\n",
       "      <td>5350.680175</td>\n",
       "      <td>10097.0</td>\n",
       "      <td>16061.00</td>\n",
       "      <td>20178.0</td>\n",
       "      <td>24392.00</td>\n",
       "      <td>29981.0</td>\n",
       "    </tr>\n",
       "    <tr>\n",
       "      <th>Employed</th>\n",
       "      <td>5698.0</td>\n",
       "      <td>56384.884521</td>\n",
       "      <td>22066.049694</td>\n",
       "      <td>20009.0</td>\n",
       "      <td>37230.00</td>\n",
       "      <td>55593.0</td>\n",
       "      <td>74015.00</td>\n",
       "      <td>99981.0</td>\n",
       "    </tr>\n",
       "    <tr>\n",
       "      <th>Medical Leave</th>\n",
       "      <td>432.0</td>\n",
       "      <td>20292.770833</td>\n",
       "      <td>5454.673575</td>\n",
       "      <td>10037.0</td>\n",
       "      <td>16095.25</td>\n",
       "      <td>20480.5</td>\n",
       "      <td>24598.25</td>\n",
       "      <td>29957.0</td>\n",
       "    </tr>\n",
       "    <tr>\n",
       "      <th>Retired</th>\n",
       "      <td>282.0</td>\n",
       "      <td>20554.960993</td>\n",
       "      <td>5476.359449</td>\n",
       "      <td>10180.0</td>\n",
       "      <td>15634.50</td>\n",
       "      <td>21073.0</td>\n",
       "      <td>25147.00</td>\n",
       "      <td>29692.0</td>\n",
       "    </tr>\n",
       "    <tr>\n",
       "      <th>Unemployed</th>\n",
       "      <td>2317.0</td>\n",
       "      <td>0.000000</td>\n",
       "      <td>0.000000</td>\n",
       "      <td>0.0</td>\n",
       "      <td>0.00</td>\n",
       "      <td>0.0</td>\n",
       "      <td>0.00</td>\n",
       "      <td>0.0</td>\n",
       "    </tr>\n",
       "  </tbody>\n",
       "</table>\n",
       "</div>"
      ],
      "text/plain": [
       "                   count          mean           std      min       25%  \\\n",
       "employmentstatus                                                          \n",
       "Disabled           405.0  20045.582716   5350.680175  10097.0  16061.00   \n",
       "Employed          5698.0  56384.884521  22066.049694  20009.0  37230.00   \n",
       "Medical Leave      432.0  20292.770833   5454.673575  10037.0  16095.25   \n",
       "Retired            282.0  20554.960993   5476.359449  10180.0  15634.50   \n",
       "Unemployed        2317.0      0.000000      0.000000      0.0      0.00   \n",
       "\n",
       "                      50%       75%      max  \n",
       "employmentstatus                              \n",
       "Disabled          20178.0  24392.00  29981.0  \n",
       "Employed          55593.0  74015.00  99981.0  \n",
       "Medical Leave     20480.5  24598.25  29957.0  \n",
       "Retired           21073.0  25147.00  29692.0  \n",
       "Unemployed            0.0      0.00      0.0  "
      ]
     },
     "execution_count": 74,
     "metadata": {},
     "output_type": "execute_result"
    }
   ],
   "source": [
    "#checking income by employementstatus\n",
    "data.groupby(['employmentstatus'])['income'].describe()"
   ]
  },
  {
   "cell_type": "markdown",
   "id": "2138d8c8",
   "metadata": {},
   "source": [
    "#### disabled, medical leave, retired don't differ much in income but all three much lower than income for employed"
   ]
  },
  {
   "cell_type": "code",
   "execution_count": 76,
   "id": "2db7ee4f",
   "metadata": {},
   "outputs": [
    {
     "data": {
      "text/html": [
       "<div>\n",
       "<style scoped>\n",
       "    .dataframe tbody tr th:only-of-type {\n",
       "        vertical-align: middle;\n",
       "    }\n",
       "\n",
       "    .dataframe tbody tr th {\n",
       "        vertical-align: top;\n",
       "    }\n",
       "\n",
       "    .dataframe thead th {\n",
       "        text-align: right;\n",
       "    }\n",
       "</style>\n",
       "<table border=\"1\" class=\"dataframe\">\n",
       "  <thead>\n",
       "    <tr style=\"text-align: right;\">\n",
       "      <th></th>\n",
       "      <th>count</th>\n",
       "      <th>mean</th>\n",
       "      <th>std</th>\n",
       "      <th>min</th>\n",
       "      <th>25%</th>\n",
       "      <th>50%</th>\n",
       "      <th>75%</th>\n",
       "      <th>max</th>\n",
       "    </tr>\n",
       "    <tr>\n",
       "      <th>education</th>\n",
       "      <th></th>\n",
       "      <th></th>\n",
       "      <th></th>\n",
       "      <th></th>\n",
       "      <th></th>\n",
       "      <th></th>\n",
       "      <th></th>\n",
       "      <th></th>\n",
       "    </tr>\n",
       "  </thead>\n",
       "  <tbody>\n",
       "    <tr>\n",
       "      <th>Bachelor</th>\n",
       "      <td>2748.0</td>\n",
       "      <td>37426.814774</td>\n",
       "      <td>30612.614417</td>\n",
       "      <td>0.0</td>\n",
       "      <td>0.0</td>\n",
       "      <td>33353.5</td>\n",
       "      <td>62902.00</td>\n",
       "      <td>99981.0</td>\n",
       "    </tr>\n",
       "    <tr>\n",
       "      <th>College</th>\n",
       "      <td>2681.0</td>\n",
       "      <td>37357.165983</td>\n",
       "      <td>29962.125533</td>\n",
       "      <td>0.0</td>\n",
       "      <td>0.0</td>\n",
       "      <td>33485.0</td>\n",
       "      <td>60944.00</td>\n",
       "      <td>99961.0</td>\n",
       "    </tr>\n",
       "    <tr>\n",
       "      <th>Doctor</th>\n",
       "      <td>342.0</td>\n",
       "      <td>42353.128655</td>\n",
       "      <td>28413.578311</td>\n",
       "      <td>0.0</td>\n",
       "      <td>21986.0</td>\n",
       "      <td>38254.0</td>\n",
       "      <td>67709.25</td>\n",
       "      <td>99443.0</td>\n",
       "    </tr>\n",
       "    <tr>\n",
       "      <th>High School or Below</th>\n",
       "      <td>2622.0</td>\n",
       "      <td>35583.929443</td>\n",
       "      <td>31115.046078</td>\n",
       "      <td>0.0</td>\n",
       "      <td>0.0</td>\n",
       "      <td>30514.0</td>\n",
       "      <td>60981.75</td>\n",
       "      <td>99874.0</td>\n",
       "    </tr>\n",
       "    <tr>\n",
       "      <th>Master</th>\n",
       "      <td>741.0</td>\n",
       "      <td>44768.187584</td>\n",
       "      <td>27984.136110</td>\n",
       "      <td>0.0</td>\n",
       "      <td>23823.0</td>\n",
       "      <td>42557.0</td>\n",
       "      <td>66334.00</td>\n",
       "      <td>99960.0</td>\n",
       "    </tr>\n",
       "  </tbody>\n",
       "</table>\n",
       "</div>"
      ],
      "text/plain": [
       "                       count          mean           std  min      25%  \\\n",
       "education                                                                \n",
       "Bachelor              2748.0  37426.814774  30612.614417  0.0      0.0   \n",
       "College               2681.0  37357.165983  29962.125533  0.0      0.0   \n",
       "Doctor                 342.0  42353.128655  28413.578311  0.0  21986.0   \n",
       "High School or Below  2622.0  35583.929443  31115.046078  0.0      0.0   \n",
       "Master                 741.0  44768.187584  27984.136110  0.0  23823.0   \n",
       "\n",
       "                          50%       75%      max  \n",
       "education                                         \n",
       "Bachelor              33353.5  62902.00  99981.0  \n",
       "College               33485.0  60944.00  99961.0  \n",
       "Doctor                38254.0  67709.25  99443.0  \n",
       "High School or Below  30514.0  60981.75  99874.0  \n",
       "Master                42557.0  66334.00  99960.0  "
      ]
     },
     "execution_count": 76,
     "metadata": {},
     "output_type": "execute_result"
    }
   ],
   "source": [
    "#checking income by education\n",
    "data.groupby(['education'])['income'].describe()"
   ]
  },
  {
   "cell_type": "markdown",
   "id": "d9e1e9f0",
   "metadata": {},
   "source": [
    "#### moderate income differences by education - doctor and master seem less unlikely to be unemployed/income of 0 and with higher mean, but max income in all categories present"
   ]
  },
  {
   "cell_type": "code",
   "execution_count": 85,
   "id": "6a9998c5",
   "metadata": {},
   "outputs": [
    {
     "data": {
      "text/html": [
       "<div>\n",
       "<style scoped>\n",
       "    .dataframe tbody tr th:only-of-type {\n",
       "        vertical-align: middle;\n",
       "    }\n",
       "\n",
       "    .dataframe tbody tr th {\n",
       "        vertical-align: top;\n",
       "    }\n",
       "\n",
       "    .dataframe thead th {\n",
       "        text-align: right;\n",
       "    }\n",
       "</style>\n",
       "<table border=\"1\" class=\"dataframe\">\n",
       "  <thead>\n",
       "    <tr style=\"text-align: right;\">\n",
       "      <th>employmentstatus</th>\n",
       "      <th>Disabled</th>\n",
       "      <th>Employed</th>\n",
       "      <th>Medical Leave</th>\n",
       "      <th>Retired</th>\n",
       "      <th>Unemployed</th>\n",
       "    </tr>\n",
       "    <tr>\n",
       "      <th>education</th>\n",
       "      <th></th>\n",
       "      <th></th>\n",
       "      <th></th>\n",
       "      <th></th>\n",
       "      <th></th>\n",
       "    </tr>\n",
       "  </thead>\n",
       "  <tbody>\n",
       "    <tr>\n",
       "      <th>Bachelor</th>\n",
       "      <td>0.044032</td>\n",
       "      <td>0.619360</td>\n",
       "      <td>0.045852</td>\n",
       "      <td>0.032023</td>\n",
       "      <td>0.258734</td>\n",
       "    </tr>\n",
       "    <tr>\n",
       "      <th>College</th>\n",
       "      <td>0.036554</td>\n",
       "      <td>0.620664</td>\n",
       "      <td>0.054084</td>\n",
       "      <td>0.038046</td>\n",
       "      <td>0.250653</td>\n",
       "    </tr>\n",
       "    <tr>\n",
       "      <th>Doctor</th>\n",
       "      <td>0.064327</td>\n",
       "      <td>0.728070</td>\n",
       "      <td>0.049708</td>\n",
       "      <td>0.002924</td>\n",
       "      <td>0.154971</td>\n",
       "    </tr>\n",
       "    <tr>\n",
       "      <th>High School or Below</th>\n",
       "      <td>0.045004</td>\n",
       "      <td>0.582761</td>\n",
       "      <td>0.043860</td>\n",
       "      <td>0.027460</td>\n",
       "      <td>0.300915</td>\n",
       "    </tr>\n",
       "    <tr>\n",
       "      <th>Master</th>\n",
       "      <td>0.062078</td>\n",
       "      <td>0.748988</td>\n",
       "      <td>0.039136</td>\n",
       "      <td>0.025641</td>\n",
       "      <td>0.124157</td>\n",
       "    </tr>\n",
       "  </tbody>\n",
       "</table>\n",
       "</div>"
      ],
      "text/plain": [
       "employmentstatus      Disabled  Employed  Medical Leave   Retired  Unemployed\n",
       "education                                                                    \n",
       "Bachelor              0.044032  0.619360       0.045852  0.032023    0.258734\n",
       "College               0.036554  0.620664       0.054084  0.038046    0.250653\n",
       "Doctor                0.064327  0.728070       0.049708  0.002924    0.154971\n",
       "High School or Below  0.045004  0.582761       0.043860  0.027460    0.300915\n",
       "Master                0.062078  0.748988       0.039136  0.025641    0.124157"
      ]
     },
     "execution_count": 85,
     "metadata": {},
     "output_type": "execute_result"
    }
   ],
   "source": [
    "#checking employmentstatus by education\n",
    "pd.crosstab(data['education'], data['employmentstatus'], normalize='index')"
   ]
  },
  {
   "cell_type": "markdown",
   "id": "0813d1c9",
   "metadata": {},
   "source": [
    "#### unemployment highest for lowest educational level"
   ]
  },
  {
   "cell_type": "code",
   "execution_count": 77,
   "id": "c46f7444",
   "metadata": {},
   "outputs": [
    {
     "data": {
      "text/html": [
       "<div>\n",
       "<style scoped>\n",
       "    .dataframe tbody tr th:only-of-type {\n",
       "        vertical-align: middle;\n",
       "    }\n",
       "\n",
       "    .dataframe tbody tr th {\n",
       "        vertical-align: top;\n",
       "    }\n",
       "\n",
       "    .dataframe thead th {\n",
       "        text-align: right;\n",
       "    }\n",
       "</style>\n",
       "<table border=\"1\" class=\"dataframe\">\n",
       "  <thead>\n",
       "    <tr style=\"text-align: right;\">\n",
       "      <th></th>\n",
       "      <th>count</th>\n",
       "      <th>mean</th>\n",
       "      <th>std</th>\n",
       "      <th>min</th>\n",
       "      <th>25%</th>\n",
       "      <th>50%</th>\n",
       "      <th>75%</th>\n",
       "      <th>max</th>\n",
       "    </tr>\n",
       "    <tr>\n",
       "      <th>state</th>\n",
       "      <th></th>\n",
       "      <th></th>\n",
       "      <th></th>\n",
       "      <th></th>\n",
       "      <th></th>\n",
       "      <th></th>\n",
       "      <th></th>\n",
       "      <th></th>\n",
       "    </tr>\n",
       "  </thead>\n",
       "  <tbody>\n",
       "    <tr>\n",
       "      <th>Arizona</th>\n",
       "      <td>1703.0</td>\n",
       "      <td>37405.402231</td>\n",
       "      <td>30131.906850</td>\n",
       "      <td>0.0</td>\n",
       "      <td>0.00</td>\n",
       "      <td>34337.0</td>\n",
       "      <td>61085.50</td>\n",
       "      <td>99845.0</td>\n",
       "    </tr>\n",
       "    <tr>\n",
       "      <th>California</th>\n",
       "      <td>3150.0</td>\n",
       "      <td>37558.946667</td>\n",
       "      <td>30510.334698</td>\n",
       "      <td>0.0</td>\n",
       "      <td>0.00</td>\n",
       "      <td>33096.5</td>\n",
       "      <td>62461.75</td>\n",
       "      <td>99981.0</td>\n",
       "    </tr>\n",
       "    <tr>\n",
       "      <th>Nevada</th>\n",
       "      <td>882.0</td>\n",
       "      <td>38369.605442</td>\n",
       "      <td>30365.994106</td>\n",
       "      <td>0.0</td>\n",
       "      <td>11194.25</td>\n",
       "      <td>34507.0</td>\n",
       "      <td>63765.75</td>\n",
       "      <td>99654.0</td>\n",
       "    </tr>\n",
       "    <tr>\n",
       "      <th>Oregon</th>\n",
       "      <td>2601.0</td>\n",
       "      <td>37557.283353</td>\n",
       "      <td>30359.353995</td>\n",
       "      <td>0.0</td>\n",
       "      <td>0.00</td>\n",
       "      <td>34498.0</td>\n",
       "      <td>61709.00</td>\n",
       "      <td>99961.0</td>\n",
       "    </tr>\n",
       "    <tr>\n",
       "      <th>Washington</th>\n",
       "      <td>798.0</td>\n",
       "      <td>38122.733083</td>\n",
       "      <td>30532.934046</td>\n",
       "      <td>0.0</td>\n",
       "      <td>0.00</td>\n",
       "      <td>35357.0</td>\n",
       "      <td>63278.00</td>\n",
       "      <td>99845.0</td>\n",
       "    </tr>\n",
       "  </tbody>\n",
       "</table>\n",
       "</div>"
      ],
      "text/plain": [
       "             count          mean           std  min       25%      50%  \\\n",
       "state                                                                    \n",
       "Arizona     1703.0  37405.402231  30131.906850  0.0      0.00  34337.0   \n",
       "California  3150.0  37558.946667  30510.334698  0.0      0.00  33096.5   \n",
       "Nevada       882.0  38369.605442  30365.994106  0.0  11194.25  34507.0   \n",
       "Oregon      2601.0  37557.283353  30359.353995  0.0      0.00  34498.0   \n",
       "Washington   798.0  38122.733083  30532.934046  0.0      0.00  35357.0   \n",
       "\n",
       "                 75%      max  \n",
       "state                          \n",
       "Arizona     61085.50  99845.0  \n",
       "California  62461.75  99981.0  \n",
       "Nevada      63765.75  99654.0  \n",
       "Oregon      61709.00  99961.0  \n",
       "Washington  63278.00  99845.0  "
      ]
     },
     "execution_count": 77,
     "metadata": {},
     "output_type": "execute_result"
    }
   ],
   "source": [
    "#checking income by state\n",
    "data.groupby(['state'])['income'].describe()"
   ]
  },
  {
   "cell_type": "markdown",
   "id": "791e20e9",
   "metadata": {},
   "source": [
    "#### no income differences by state"
   ]
  },
  {
   "cell_type": "code",
   "execution_count": 79,
   "id": "af706c98",
   "metadata": {},
   "outputs": [
    {
     "data": {
      "text/html": [
       "<div>\n",
       "<style scoped>\n",
       "    .dataframe tbody tr th:only-of-type {\n",
       "        vertical-align: middle;\n",
       "    }\n",
       "\n",
       "    .dataframe tbody tr th {\n",
       "        vertical-align: top;\n",
       "    }\n",
       "\n",
       "    .dataframe thead th {\n",
       "        text-align: right;\n",
       "    }\n",
       "</style>\n",
       "<table border=\"1\" class=\"dataframe\">\n",
       "  <thead>\n",
       "    <tr style=\"text-align: right;\">\n",
       "      <th></th>\n",
       "      <th>count</th>\n",
       "      <th>mean</th>\n",
       "      <th>std</th>\n",
       "      <th>min</th>\n",
       "      <th>25%</th>\n",
       "      <th>50%</th>\n",
       "      <th>75%</th>\n",
       "      <th>max</th>\n",
       "    </tr>\n",
       "    <tr>\n",
       "      <th>gender</th>\n",
       "      <th></th>\n",
       "      <th></th>\n",
       "      <th></th>\n",
       "      <th></th>\n",
       "      <th></th>\n",
       "      <th></th>\n",
       "      <th></th>\n",
       "      <th></th>\n",
       "    </tr>\n",
       "  </thead>\n",
       "  <tbody>\n",
       "    <tr>\n",
       "      <th>F</th>\n",
       "      <td>4658.0</td>\n",
       "      <td>38108.176471</td>\n",
       "      <td>30279.723257</td>\n",
       "      <td>0.0</td>\n",
       "      <td>11813.75</td>\n",
       "      <td>34383.5</td>\n",
       "      <td>62891.0</td>\n",
       "      <td>99961.0</td>\n",
       "    </tr>\n",
       "    <tr>\n",
       "      <th>M</th>\n",
       "      <td>4476.0</td>\n",
       "      <td>37188.253575</td>\n",
       "      <td>30480.113554</td>\n",
       "      <td>0.0</td>\n",
       "      <td>0.00</td>\n",
       "      <td>33319.0</td>\n",
       "      <td>61543.0</td>\n",
       "      <td>99981.0</td>\n",
       "    </tr>\n",
       "  </tbody>\n",
       "</table>\n",
       "</div>"
      ],
      "text/plain": [
       "         count          mean           std  min       25%      50%      75%  \\\n",
       "gender                                                                        \n",
       "F       4658.0  38108.176471  30279.723257  0.0  11813.75  34383.5  62891.0   \n",
       "M       4476.0  37188.253575  30480.113554  0.0      0.00  33319.0  61543.0   \n",
       "\n",
       "            max  \n",
       "gender           \n",
       "F       99961.0  \n",
       "M       99981.0  "
      ]
     },
     "execution_count": 79,
     "metadata": {},
     "output_type": "execute_result"
    }
   ],
   "source": [
    "#checking income by gender\n",
    "data.groupby(['gender'])['income'].describe()"
   ]
  },
  {
   "cell_type": "markdown",
   "id": "85644d5f",
   "metadata": {},
   "source": [
    "#### no income differences by gender"
   ]
  },
  {
   "cell_type": "code",
   "execution_count": 98,
   "id": "c6d84bd6",
   "metadata": {},
   "outputs": [
    {
     "name": "stdout",
     "output_type": "stream",
     "text": [
      "Married     0.580031\n",
      "Single      0.270090\n",
      "Divorced    0.149880\n",
      "Name: marital_status, dtype: float64\n"
     ]
    },
    {
     "data": {
      "image/png": "[encoded data removed]",
      "text/plain": [
       "<Figure size 576x144 with 1 Axes>"
      ]
     },
     "metadata": {
      "needs_background": "light"
     },
     "output_type": "display_data"
    }
   ],
   "source": [
    "# marital status\n",
    "print(data.marital_status.value_counts(normalize = True))\n",
    "plt.figure(figsize=(8,2))\n",
    "sns.histplot(data.marital_status)\n",
    "plt.show()"
   ]
  },
  {
   "cell_type": "code",
   "execution_count": 99,
   "id": "f13dfedf",
   "metadata": {},
   "outputs": [
    {
     "name": "stdout",
     "output_type": "stream",
     "text": [
      "Suburban    0.632691\n",
      "Rural       0.194110\n",
      "Urban       0.173199\n",
      "Name: location_code, dtype: float64\n"
     ]
    },
    {
     "data": {
      "image/png": "[encoded data removed]",
      "text/plain": [
       "<Figure size 576x144 with 1 Axes>"
      ]
     },
     "metadata": {
      "needs_background": "light"
     },
     "output_type": "display_data"
    }
   ],
   "source": [
    "# location code\n",
    "print(data.location_code.value_counts(normalize = True))\n",
    "plt.figure(figsize=(8,2))\n",
    "sns.histplot(data.location_code)\n",
    "plt.show()"
   ]
  },
  {
   "cell_type": "markdown",
   "id": "878d6169",
   "metadata": {},
   "source": [
    "## Insurance KPIs"
   ]
  },
  {
   "cell_type": "code",
   "execution_count": 93,
   "id": "1464880a",
   "metadata": {},
   "outputs": [
    {
     "name": "stdout",
     "output_type": "stream",
     "text": [
      "count     9134.000000\n",
      "mean      8004.940475\n",
      "std       6870.967608\n",
      "min       1898.007675\n",
      "25%       3994.251794\n",
      "50%       5780.182197\n",
      "75%       8962.167041\n",
      "max      83325.381190\n",
      "Name: customer_lifetime_value, dtype: float64\n"
     ]
    },
    {
     "data": {
      "image/png": "[encoded data removed]",
      "text/plain": [
       "<Figure size 432x288 with 1 Axes>"
      ]
     },
     "metadata": {
      "needs_background": "light"
     },
     "output_type": "display_data"
    }
   ],
   "source": [
    "# customer lifetime value\n",
    "print(data['customer_lifetime_value'].describe())\n",
    "sns.boxplot(x=data['customer_lifetime_value'])\n",
    "plt.show()"
   ]
  },
  {
   "cell_type": "markdown",
   "id": "e8825294",
   "metadata": {},
   "source": [
    "#### quite a few outliers but most customers with lifetime value below 10.000"
   ]
  },
  {
   "cell_type": "code",
   "execution_count": 94,
   "id": "8f431294",
   "metadata": {},
   "outputs": [
    {
     "name": "stdout",
     "output_type": "stream",
     "text": [
      "Basic       0.609591\n",
      "Extended    0.300197\n",
      "Premium     0.090212\n",
      "Name: coverage, dtype: float64\n"
     ]
    },
    {
     "data": {
      "image/png": "[encoded data removed]",
      "text/plain": [
       "<Figure size 576x144 with 1 Axes>"
      ]
     },
     "metadata": {
      "needs_background": "light"
     },
     "output_type": "display_data"
    }
   ],
   "source": [
    "# coverage\n",
    "print(data.coverage.value_counts(normalize = True))\n",
    "plt.figure(figsize=(8,2))\n",
    "sns.histplot(data.coverage)\n",
    "plt.show()"
   ]
  },
  {
   "cell_type": "markdown",
   "id": "2a29c8a1",
   "metadata": {},
   "source": [
    "#### most customers with basic coverage, only very few premium"
   ]
  },
  {
   "cell_type": "code",
   "execution_count": 101,
   "id": "ae9d9a86",
   "metadata": {},
   "outputs": [
    {
     "name": "stdout",
     "output_type": "stream",
     "text": [
      "count    9134.000000\n",
      "mean       93.219291\n",
      "std        34.407967\n",
      "min        61.000000\n",
      "25%        68.000000\n",
      "50%        83.000000\n",
      "75%       109.000000\n",
      "max       298.000000\n",
      "Name: monthly_premium_auto, dtype: float64\n"
     ]
    },
    {
     "data": {
      "image/png": "[encoded data removed]",
      "text/plain": [
       "<Figure size 432x288 with 1 Axes>"
      ]
     },
     "metadata": {
      "needs_background": "light"
     },
     "output_type": "display_data"
    }
   ],
   "source": [
    "# monthly_premium_auto\n",
    "print(data['monthly_premium_auto'].describe())\n",
    "sns.boxplot(x=data['monthly_premium_auto'])\n",
    "plt.show()"
   ]
  },
  {
   "cell_type": "markdown",
   "id": "eb2777d0",
   "metadata": {},
   "source": [
    "#### most customers pay max of 170 per month for coverage"
   ]
  },
  {
   "cell_type": "code",
   "execution_count": 102,
   "id": "79a2b8df",
   "metadata": {},
   "outputs": [
    {
     "data": {
      "text/html": [
       "<div>\n",
       "<style scoped>\n",
       "    .dataframe tbody tr th:only-of-type {\n",
       "        vertical-align: middle;\n",
       "    }\n",
       "\n",
       "    .dataframe tbody tr th {\n",
       "        vertical-align: top;\n",
       "    }\n",
       "\n",
       "    .dataframe thead th {\n",
       "        text-align: right;\n",
       "    }\n",
       "</style>\n",
       "<table border=\"1\" class=\"dataframe\">\n",
       "  <thead>\n",
       "    <tr style=\"text-align: right;\">\n",
       "      <th></th>\n",
       "      <th>count</th>\n",
       "      <th>mean</th>\n",
       "      <th>std</th>\n",
       "      <th>min</th>\n",
       "      <th>25%</th>\n",
       "      <th>50%</th>\n",
       "      <th>75%</th>\n",
       "      <th>max</th>\n",
       "    </tr>\n",
       "    <tr>\n",
       "      <th>coverage</th>\n",
       "      <th></th>\n",
       "      <th></th>\n",
       "      <th></th>\n",
       "      <th></th>\n",
       "      <th></th>\n",
       "      <th></th>\n",
       "      <th></th>\n",
       "      <th></th>\n",
       "    </tr>\n",
       "  </thead>\n",
       "  <tbody>\n",
       "    <tr>\n",
       "      <th>Basic</th>\n",
       "      <td>5568.0</td>\n",
       "      <td>82.173851</td>\n",
       "      <td>27.364519</td>\n",
       "      <td>61.0</td>\n",
       "      <td>65.0</td>\n",
       "      <td>70.0</td>\n",
       "      <td>102.0</td>\n",
       "      <td>199.0</td>\n",
       "    </tr>\n",
       "    <tr>\n",
       "      <th>Extended</th>\n",
       "      <td>2742.0</td>\n",
       "      <td>103.579504</td>\n",
       "      <td>31.689253</td>\n",
       "      <td>76.0</td>\n",
       "      <td>84.0</td>\n",
       "      <td>92.0</td>\n",
       "      <td>123.0</td>\n",
       "      <td>249.0</td>\n",
       "    </tr>\n",
       "    <tr>\n",
       "      <th>Premium</th>\n",
       "      <td>824.0</td>\n",
       "      <td>133.381068</td>\n",
       "      <td>43.936499</td>\n",
       "      <td>101.0</td>\n",
       "      <td>107.0</td>\n",
       "      <td>114.0</td>\n",
       "      <td>152.0</td>\n",
       "      <td>298.0</td>\n",
       "    </tr>\n",
       "  </tbody>\n",
       "</table>\n",
       "</div>"
      ],
      "text/plain": [
       "           count        mean        std    min    25%    50%    75%    max\n",
       "coverage                                                                  \n",
       "Basic     5568.0   82.173851  27.364519   61.0   65.0   70.0  102.0  199.0\n",
       "Extended  2742.0  103.579504  31.689253   76.0   84.0   92.0  123.0  249.0\n",
       "Premium    824.0  133.381068  43.936499  101.0  107.0  114.0  152.0  298.0"
      ]
     },
     "execution_count": 102,
     "metadata": {},
     "output_type": "execute_result"
    }
   ],
   "source": [
    "#checking monthly premium by coverage\n",
    "data.groupby(['coverage'])['monthly_premium_auto'].describe()"
   ]
  },
  {
   "cell_type": "markdown",
   "id": "7d1f2cfa",
   "metadata": {},
   "source": [
    "#### there are outliers of monthly premium within each coverage category but in general premium is higher the higher the coverage category"
   ]
  },
  {
   "cell_type": "code",
   "execution_count": 104,
   "id": "586f7ebb",
   "metadata": {},
   "outputs": [
    {
     "name": "stdout",
     "output_type": "stream",
     "text": [
      "Personal Auto     0.743157\n",
      "Corporate Auto    0.215459\n",
      "Special Auto      0.041384\n",
      "Name: policy_type, dtype: float64\n"
     ]
    },
    {
     "data": {
      "image/png": "[encoded data removed]",
      "text/plain": [
       "<Figure size 576x144 with 1 Axes>"
      ]
     },
     "metadata": {
      "needs_background": "light"
     },
     "output_type": "display_data"
    }
   ],
   "source": [
    "#policy\n",
    "print(data.policy_type.value_counts(normalize = True))\n",
    "plt.figure(figsize=(8,2))\n",
    "sns.histplot(data.policy_type)\n",
    "plt.show()"
   ]
  },
  {
   "cell_type": "code",
   "execution_count": 107,
   "id": "d7a65cba",
   "metadata": {},
   "outputs": [
    {
     "data": {
      "text/html": [
       "<div>\n",
       "<style scoped>\n",
       "    .dataframe tbody tr th:only-of-type {\n",
       "        vertical-align: middle;\n",
       "    }\n",
       "\n",
       "    .dataframe tbody tr th {\n",
       "        vertical-align: top;\n",
       "    }\n",
       "\n",
       "    .dataframe thead th {\n",
       "        text-align: right;\n",
       "    }\n",
       "</style>\n",
       "<table border=\"1\" class=\"dataframe\">\n",
       "  <thead>\n",
       "    <tr style=\"text-align: right;\">\n",
       "      <th>policy</th>\n",
       "      <th>Corporate L1</th>\n",
       "      <th>Corporate L2</th>\n",
       "      <th>Corporate L3</th>\n",
       "      <th>Personal L1</th>\n",
       "      <th>Personal L2</th>\n",
       "      <th>Personal L3</th>\n",
       "      <th>Special L1</th>\n",
       "      <th>Special L2</th>\n",
       "      <th>Special L3</th>\n",
       "    </tr>\n",
       "    <tr>\n",
       "      <th>policy_type</th>\n",
       "      <th></th>\n",
       "      <th></th>\n",
       "      <th></th>\n",
       "      <th></th>\n",
       "      <th></th>\n",
       "      <th></th>\n",
       "      <th></th>\n",
       "      <th></th>\n",
       "      <th></th>\n",
       "    </tr>\n",
       "  </thead>\n",
       "  <tbody>\n",
       "    <tr>\n",
       "      <th>Corporate Auto</th>\n",
       "      <td>0.182419</td>\n",
       "      <td>0.302337</td>\n",
       "      <td>0.515244</td>\n",
       "      <td>0.000000</td>\n",
       "      <td>0.00000</td>\n",
       "      <td>0.000000</td>\n",
       "      <td>0.000000</td>\n",
       "      <td>0.000000</td>\n",
       "      <td>0.000000</td>\n",
       "    </tr>\n",
       "    <tr>\n",
       "      <th>Personal Auto</th>\n",
       "      <td>0.000000</td>\n",
       "      <td>0.000000</td>\n",
       "      <td>0.000000</td>\n",
       "      <td>0.182675</td>\n",
       "      <td>0.31261</td>\n",
       "      <td>0.504714</td>\n",
       "      <td>0.000000</td>\n",
       "      <td>0.000000</td>\n",
       "      <td>0.000000</td>\n",
       "    </tr>\n",
       "    <tr>\n",
       "      <th>Special Auto</th>\n",
       "      <td>0.000000</td>\n",
       "      <td>0.000000</td>\n",
       "      <td>0.000000</td>\n",
       "      <td>0.000000</td>\n",
       "      <td>0.00000</td>\n",
       "      <td>0.000000</td>\n",
       "      <td>0.174603</td>\n",
       "      <td>0.433862</td>\n",
       "      <td>0.391534</td>\n",
       "    </tr>\n",
       "  </tbody>\n",
       "</table>\n",
       "</div>"
      ],
      "text/plain": [
       "policy          Corporate L1  Corporate L2  Corporate L3  Personal L1  \\\n",
       "policy_type                                                             \n",
       "Corporate Auto      0.182419      0.302337      0.515244     0.000000   \n",
       "Personal Auto       0.000000      0.000000      0.000000     0.182675   \n",
       "Special Auto        0.000000      0.000000      0.000000     0.000000   \n",
       "\n",
       "policy          Personal L2  Personal L3  Special L1  Special L2  Special L3  \n",
       "policy_type                                                                   \n",
       "Corporate Auto      0.00000     0.000000    0.000000    0.000000    0.000000  \n",
       "Personal Auto       0.31261     0.504714    0.000000    0.000000    0.000000  \n",
       "Special Auto        0.00000     0.000000    0.174603    0.433862    0.391534  "
      ]
     },
     "execution_count": 107,
     "metadata": {},
     "output_type": "execute_result"
    }
   ],
   "source": [
    "#policy\n",
    "pd.crosstab(data['policy_type'], data['policy'], normalize='index')"
   ]
  },
  {
   "cell_type": "markdown",
   "id": "723d00ec",
   "metadata": {},
   "source": [
    "#### for personal and corporate, policy  L3 is most popular, followed by L2 and then L1. For special auto, L2 with slightly higher frequency than L3"
   ]
  },
  {
   "cell_type": "code",
   "execution_count": 114,
   "id": "2db848c4",
   "metadata": {},
   "outputs": [
    {
     "name": "stdout",
     "output_type": "stream",
     "text": [
      "1    0.355923\n",
      "2    0.251150\n",
      "3    0.127874\n",
      "7    0.047405\n",
      "9    0.045544\n",
      "4    0.044778\n",
      "5    0.044559\n",
      "8    0.042041\n",
      "6    0.040727\n",
      "Name: number_of_policies, dtype: float64\n"
     ]
    },
    {
     "data": {
      "image/png": "[encoded data removed]",
      "text/plain": [
       "<Figure size 576x144 with 1 Axes>"
      ]
     },
     "metadata": {
      "needs_background": "light"
     },
     "output_type": "display_data"
    }
   ],
   "source": [
    "#number of policies\n",
    "print(data.number_of_policies.value_counts(normalize = True))\n",
    "plt.figure(figsize=(8,2))\n",
    "sns.histplot(data.number_of_policies)\n",
    "plt.show()"
   ]
  },
  {
   "cell_type": "code",
   "execution_count": 116,
   "id": "2caef185",
   "metadata": {},
   "outputs": [
    {
     "name": "stdout",
     "output_type": "stream",
     "text": [
      "0    0.793957\n",
      "1    0.110685\n",
      "2    0.040946\n",
      "3    0.031968\n",
      "4    0.016313\n",
      "5    0.006131\n",
      "Name: number_of_open_complaints, dtype: float64\n"
     ]
    },
    {
     "data": {
      "image/png": "[encoded data removed]",
      "text/plain": [
       "<Figure size 576x144 with 1 Axes>"
      ]
     },
     "metadata": {
      "needs_background": "light"
     },
     "output_type": "display_data"
    }
   ],
   "source": [
    "# number_of_open_complaints\n",
    "print(data.number_of_open_complaints.value_counts(normalize = True))\n",
    "plt.figure(figsize=(8,2))\n",
    "sns.histplot(data.number_of_open_complaints)\n",
    "plt.show()"
   ]
  },
  {
   "cell_type": "markdown",
   "id": "39dc219a",
   "metadata": {},
   "source": [
    "#### 80% of customers have no open complaints"
   ]
  },
  {
   "cell_type": "markdown",
   "id": "f31d1eff",
   "metadata": {},
   "source": [
    "#### most customers have more than one policy - unclear, what that means - more than one within same company, more than one of same type of policy... assuming that data in table is only for one policy, for one car - the one named in column \"policy\""
   ]
  },
  {
   "cell_type": "code",
   "execution_count": 108,
   "id": "6ad92b7c",
   "metadata": {},
   "outputs": [
    {
     "name": "stdout",
     "output_type": "stream",
     "text": [
      "Four-Door Car    0.505912\n",
      "Two-Door Car     0.206481\n",
      "SUV              0.196628\n",
      "Sports Car       0.052989\n",
      "Luxury SUV       0.020145\n",
      "Luxury Car       0.017845\n",
      "Name: vehicle_class, dtype: float64\n"
     ]
    },
    {
     "data": {
      "image/png": "[encoded data removed]",
      "text/plain": [
       "<Figure size 576x144 with 1 Axes>"
      ]
     },
     "metadata": {
      "needs_background": "light"
     },
     "output_type": "display_data"
    }
   ],
   "source": [
    "#vehicle class\n",
    "print(data.vehicle_class.value_counts(normalize = True))\n",
    "plt.figure(figsize=(8,2))\n",
    "sns.histplot(data.vehicle_class)\n",
    "plt.show()"
   ]
  },
  {
   "cell_type": "markdown",
   "id": "f39a602f",
   "metadata": {},
   "source": [
    "#### about 50% of customers drive four-door-car"
   ]
  },
  {
   "cell_type": "code",
   "execution_count": 109,
   "id": "77fcca2a",
   "metadata": {},
   "outputs": [
    {
     "name": "stdout",
     "output_type": "stream",
     "text": [
      "Medsize    0.703306\n",
      "Small      0.193125\n",
      "Large      0.103569\n",
      "Name: vehicle_size, dtype: float64\n"
     ]
    },
    {
     "data": {
      "image/png": "[encoded data removed]",
      "text/plain": [
       "<Figure size 576x144 with 1 Axes>"
      ]
     },
     "metadata": {
      "needs_background": "light"
     },
     "output_type": "display_data"
    }
   ],
   "source": [
    "#vehicle size\n",
    "print(data.vehicle_size.value_counts(normalize = True))\n",
    "plt.figure(figsize=(8,2))\n",
    "sns.histplot(data.vehicle_size)\n",
    "plt.show()"
   ]
  },
  {
   "cell_type": "markdown",
   "id": "cc22db8f",
   "metadata": {},
   "source": [
    "#### most customers drive a medium sized car"
   ]
  },
  {
   "cell_type": "code",
   "execution_count": 113,
   "id": "d3506b26",
   "metadata": {},
   "outputs": [
    {
     "data": {
      "text/html": [
       "<div>\n",
       "<style scoped>\n",
       "    .dataframe tbody tr th:only-of-type {\n",
       "        vertical-align: middle;\n",
       "    }\n",
       "\n",
       "    .dataframe tbody tr th {\n",
       "        vertical-align: top;\n",
       "    }\n",
       "\n",
       "    .dataframe thead th {\n",
       "        text-align: right;\n",
       "    }\n",
       "</style>\n",
       "<table border=\"1\" class=\"dataframe\">\n",
       "  <thead>\n",
       "    <tr style=\"text-align: right;\">\n",
       "      <th>vehicle_size</th>\n",
       "      <th>Large</th>\n",
       "      <th>Medsize</th>\n",
       "      <th>Small</th>\n",
       "    </tr>\n",
       "    <tr>\n",
       "      <th>vehicle_class</th>\n",
       "      <th></th>\n",
       "      <th></th>\n",
       "      <th></th>\n",
       "    </tr>\n",
       "  </thead>\n",
       "  <tbody>\n",
       "    <tr>\n",
       "      <th>Four-Door Car</th>\n",
       "      <td>0.102792</td>\n",
       "      <td>0.700498</td>\n",
       "      <td>0.196711</td>\n",
       "    </tr>\n",
       "    <tr>\n",
       "      <th>Luxury Car</th>\n",
       "      <td>0.098160</td>\n",
       "      <td>0.650307</td>\n",
       "      <td>0.251534</td>\n",
       "    </tr>\n",
       "    <tr>\n",
       "      <th>Luxury SUV</th>\n",
       "      <td>0.097826</td>\n",
       "      <td>0.679348</td>\n",
       "      <td>0.222826</td>\n",
       "    </tr>\n",
       "    <tr>\n",
       "      <th>SUV</th>\n",
       "      <td>0.092984</td>\n",
       "      <td>0.728285</td>\n",
       "      <td>0.178731</td>\n",
       "    </tr>\n",
       "    <tr>\n",
       "      <th>Sports Car</th>\n",
       "      <td>0.101240</td>\n",
       "      <td>0.756198</td>\n",
       "      <td>0.142562</td>\n",
       "    </tr>\n",
       "    <tr>\n",
       "      <th>Two-Door Car</th>\n",
       "      <td>0.117179</td>\n",
       "      <td>0.679745</td>\n",
       "      <td>0.203075</td>\n",
       "    </tr>\n",
       "  </tbody>\n",
       "</table>\n",
       "</div>"
      ],
      "text/plain": [
       "vehicle_size      Large   Medsize     Small\n",
       "vehicle_class                              \n",
       "Four-Door Car  0.102792  0.700498  0.196711\n",
       "Luxury Car     0.098160  0.650307  0.251534\n",
       "Luxury SUV     0.097826  0.679348  0.222826\n",
       "SUV            0.092984  0.728285  0.178731\n",
       "Sports Car     0.101240  0.756198  0.142562\n",
       "Two-Door Car   0.117179  0.679745  0.203075"
      ]
     },
     "execution_count": 113,
     "metadata": {},
     "output_type": "execute_result"
    }
   ],
   "source": [
    "pd.crosstab(data['vehicle_class'], data['vehicle_size'], normalize='index')"
   ]
  },
  {
   "cell_type": "markdown",
   "id": "64d86049",
   "metadata": {},
   "source": [
    "#### vehicle size does not depend much on vehicle_class"
   ]
  },
  {
   "cell_type": "code",
   "execution_count": null,
   "id": "eead3dcf",
   "metadata": {},
   "outputs": [],
   "source": []
  }
 ],
 "metadata": {
  "kernelspec": {
   "display_name": "Python 3",
   "language": "python",
   "name": "python3"
  },
  "language_info": {
   "codemirror_mode": {
    "name": "ipython",
    "version": 3
   },
   "file_extension": ".py",
   "mimetype": "text/x-python",
   "name": "python",
   "nbconvert_exporter": "python",
   "pygments_lexer": "ipython3",
   "version": "3.8.8"
  }
 },
 "nbformat": 4,
 "nbformat_minor": 5
}
